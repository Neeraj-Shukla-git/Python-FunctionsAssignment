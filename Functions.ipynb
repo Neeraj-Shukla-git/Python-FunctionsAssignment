{
  "nbformat": 4,
  "nbformat_minor": 0,
  "metadata": {
    "colab": {
      "provenance": []
    },
    "kernelspec": {
      "name": "python3",
      "display_name": "Python 3"
    },
    "language_info": {
      "name": "python"
    }
  },
  "cells": [
    {
      "cell_type": "markdown",
      "source": [
        "**Theory Questions**"
      ],
      "metadata": {
        "id": "Ec7-R-lV49vR"
      }
    },
    {
      "cell_type": "markdown",
      "source": [
        "1. What is the difference between a function and a method in Python?\n",
        "2. Explain the concept of function arguments and parameters in Python.\n",
        "3. What are the different ways to define and call a function in Python?\n",
        "4. What is the purpose of the `return` statement in a Python function?\n",
        "5. What are iterators in Python and how do they differ from iterables?\n",
        "6. Explain the concept of generators in Python and how they are defined.\n",
        "7. What are the advantages of using generators over regular functions?\n",
        "8. What is a lambda function in Python and when is it typically used?\n",
        "9. Explain the purpose and usage of the `map()` function in Python.\n",
        "10. What is the difference between `map()`, `reduce()`, and `filter()` functions in Python?\n",
        "11. Using pen & Paper write the internal mechanism for sum operation using  reduce function on this given. list:[47,11,42,13];"
      ],
      "metadata": {
        "id": "1I4b4y5N4REq"
      }
    },
    {
      "cell_type": "markdown",
      "source": [
        "Answer 1\n",
        "- Function- A function is a block of reusable code that performs a specific task. Functions are defined using the def keyword and can be called from anywhere in your code. Functions can be either standalone or part of a class.\n",
        "- Method- A method is a function that is bound to an object (typically an instance of a class). Methods are defined inside a class and operate on the object’s state (attributes).\n"
      ],
      "metadata": {
        "id": "9s8LHCdpEjPq"
      }
    },
    {
      "cell_type": "code",
      "source": [
        "# Function Example\n",
        "def add(a, b):\n",
        "    return a + b\n",
        "\n",
        "result = add(2, 3)\n",
        "print(result)"
      ],
      "metadata": {
        "colab": {
          "base_uri": "https://localhost:8080/"
        },
        "id": "CEHvWZaNEzfo",
        "outputId": "0121552e-6f91-4e93-8634-a2b0eb854276"
      },
      "execution_count": 44,
      "outputs": [
        {
          "output_type": "stream",
          "name": "stdout",
          "text": [
            "5\n"
          ]
        }
      ]
    },
    {
      "cell_type": "code",
      "source": [
        "# Method Example\n",
        "class Calculator:\n",
        "    def add(self, a, b):\n",
        "        return a + b\n",
        "\n",
        "calc = Calculator()\n",
        "result = calc.add(2, 3)\n",
        "print(result)"
      ],
      "metadata": {
        "colab": {
          "base_uri": "https://localhost:8080/"
        },
        "id": "05EfyNKuFTT5",
        "outputId": "b99ce96a-203b-47b9-a342-133c626b5216"
      },
      "execution_count": 45,
      "outputs": [
        {
          "output_type": "stream",
          "name": "stdout",
          "text": [
            "5\n"
          ]
        }
      ]
    },
    {
      "cell_type": "markdown",
      "source": [
        "Answer 2\n",
        "- Parameters are the variables in the function definition that accept values.\n",
        "- Arguments are the actual values that are passed to the function."
      ],
      "metadata": {
        "id": "07iV-Tu3Fqpv"
      }
    },
    {
      "cell_type": "code",
      "source": [
        "# Example of Parameter and Argument\n",
        "def greet(name):  # 'name' is the parameter\n",
        "    print(f\"Hello, {name}\")\n",
        "\n",
        "greet(\"Alice\")  # \"Alice\" is the argument"
      ],
      "metadata": {
        "colab": {
          "base_uri": "https://localhost:8080/"
        },
        "id": "nYt2zhgFF_7J",
        "outputId": "dfd49795-f14f-41df-d3f6-6dd6c0c61ec9"
      },
      "execution_count": 46,
      "outputs": [
        {
          "output_type": "stream",
          "name": "stdout",
          "text": [
            "Hello, Alice\n"
          ]
        }
      ]
    },
    {
      "cell_type": "markdown",
      "source": [
        "Answer 3\n",
        "- Defining a function- Use the def keyword followed by the function name and parameters.\n",
        "- Calling a function- Call the function by using its name followed by parentheses with any necessary arguments."
      ],
      "metadata": {
        "id": "r_VjevsGGQzQ"
      }
    },
    {
      "cell_type": "code",
      "source": [
        "# Example of Function Definition and Function Call\n",
        "def multiply(a, b):  # Function definition\n",
        "    return a * b\n",
        "\n",
        "result = multiply(4, 5)  # Function call\n",
        "print(result)"
      ],
      "metadata": {
        "colab": {
          "base_uri": "https://localhost:8080/"
        },
        "id": "v6UMGurWGZzD",
        "outputId": "e3ee00cf-4631-4640-ce10-307770fb02b8"
      },
      "execution_count": 47,
      "outputs": [
        {
          "output_type": "stream",
          "name": "stdout",
          "text": [
            "20\n"
          ]
        }
      ]
    },
    {
      "cell_type": "markdown",
      "source": [
        "Answer 4\n",
        "- The return statement is used to exit a function and optionally return a value. If there is no return statement, the function returns None by default."
      ],
      "metadata": {
        "id": "OmkMbRXQGwVq"
      }
    },
    {
      "cell_type": "code",
      "source": [
        "# Example of return Statement\n",
        "def add(a, b):\n",
        "    return a + b\n",
        "\n",
        "result = add(3, 4)\n",
        "print(result)"
      ],
      "metadata": {
        "colab": {
          "base_uri": "https://localhost:8080/"
        },
        "id": "PztI3FNwGuE_",
        "outputId": "b7afc959-1768-4d67-f428-c65fb776ac03"
      },
      "execution_count": 48,
      "outputs": [
        {
          "output_type": "stream",
          "name": "stdout",
          "text": [
            "7\n"
          ]
        }
      ]
    },
    {
      "cell_type": "markdown",
      "source": [
        "Answer 5\n",
        "- Iterable-An object that can return an iterator (like lists, tuples, strings). An iterable implements the __iter__() method that returns an iterator.\n",
        "- Iterator- An object that keeps track of its state and produces the next item when next() is called. An iterator implements two methods: __iter__() and __next__()."
      ],
      "metadata": {
        "id": "FMEbiIB3HKpe"
      }
    },
    {
      "cell_type": "code",
      "source": [
        "# Iterable\n",
        "my_list = [1, 2, 3]\n",
        "iterator = iter(my_list)  # Iterator from iterable\n",
        "\n",
        "print(next(iterator))\n",
        "print(next(iterator))"
      ],
      "metadata": {
        "colab": {
          "base_uri": "https://localhost:8080/"
        },
        "id": "i-bEal55HUNy",
        "outputId": "7316d336-0f54-4d46-f010-7c83d7758b0c"
      },
      "execution_count": 49,
      "outputs": [
        {
          "output_type": "stream",
          "name": "stdout",
          "text": [
            "1\n",
            "2\n"
          ]
        }
      ]
    },
    {
      "cell_type": "markdown",
      "source": [
        "Answer 6\n",
        "- Generators are a type of iterator, defined using a function with the yield keyword instead of return. They generate items one at a time, which can be consumed lazily. This allows for memory-efficient processing, especially when working with large data sets."
      ],
      "metadata": {
        "id": "k2Fzp-W9HpDX"
      }
    },
    {
      "cell_type": "code",
      "source": [
        "# Example of Generator\n",
        "def count_up_to(limit):\n",
        "    count = 1\n",
        "    while count <= limit:\n",
        "        yield count\n",
        "        count += 1\n",
        "\n",
        "gen = count_up_to(5)\n",
        "for number in gen:\n",
        "    print(number)"
      ],
      "metadata": {
        "colab": {
          "base_uri": "https://localhost:8080/"
        },
        "id": "rAm7ZK8THxFk",
        "outputId": "787e177e-de5e-4346-a570-27b81a0069f7"
      },
      "execution_count": 50,
      "outputs": [
        {
          "output_type": "stream",
          "name": "stdout",
          "text": [
            "1\n",
            "2\n",
            "3\n",
            "4\n",
            "5\n"
          ]
        }
      ]
    },
    {
      "cell_type": "markdown",
      "source": [
        "Answer 7\n",
        "- Memory Efficiency- Generators do not generate all the values at once; they yield one value at a time. This is particularly useful when dealing with large datasets.\n",
        "- Lazy Evaluation- Values are computed only when needed, making them useful for infinite sequences or large iterations."
      ],
      "metadata": {
        "id": "DqxayV6WIDzq"
      }
    },
    {
      "cell_type": "code",
      "source": [
        "# Example\n",
        "def large_range():\n",
        "    for i in range(1000000):  # Imagine working with a large range\n",
        "        yield i\n",
        "\n",
        "gen = large_range()\n",
        "print(next(gen))"
      ],
      "metadata": {
        "colab": {
          "base_uri": "https://localhost:8080/"
        },
        "id": "rjR1Ck3KILf6",
        "outputId": "d3003bea-89a3-49b7-dd3b-56e277bc6290"
      },
      "execution_count": 51,
      "outputs": [
        {
          "output_type": "stream",
          "name": "stdout",
          "text": [
            "0\n"
          ]
        }
      ]
    },
    {
      "cell_type": "markdown",
      "source": [
        "Answer 8\n",
        "- A lambda function is an anonymous function defined with the lambda keyword. It is used for short, throwaway functions that are passed as arguments to higher-order functions."
      ],
      "metadata": {
        "id": "e7YEz2pdIWdh"
      }
    },
    {
      "cell_type": "code",
      "source": [
        "# Example of Lambda Function\n",
        "multiply_by_two = lambda x: x * 2\n",
        "print(multiply_by_two(5))"
      ],
      "metadata": {
        "colab": {
          "base_uri": "https://localhost:8080/"
        },
        "id": "rsqTRx1QIqJl",
        "outputId": "d6eea592-60b7-4fa2-f6bd-b2775998fec9"
      },
      "execution_count": 52,
      "outputs": [
        {
          "output_type": "stream",
          "name": "stdout",
          "text": [
            "10\n"
          ]
        }
      ]
    },
    {
      "cell_type": "markdown",
      "source": [
        "Answer 9\n",
        "- The map() function applies a function to all items in an iterable and returns an iterator of the results."
      ],
      "metadata": {
        "id": "iq2sDlsEIewg"
      }
    },
    {
      "cell_type": "code",
      "source": [
        "# Example of map() function\n",
        "numbers = [1, 2, 3, 4]\n",
        "result = map(lambda x: x * 2, numbers)  # Doubles each number in the list\n",
        "print(list(result))"
      ],
      "metadata": {
        "colab": {
          "base_uri": "https://localhost:8080/"
        },
        "id": "uTYfhUdYI-UA",
        "outputId": "fec3c7a8-eaa5-446f-922a-0ce7312fba3e"
      },
      "execution_count": 53,
      "outputs": [
        {
          "output_type": "stream",
          "name": "stdout",
          "text": [
            "[2, 4, 6, 8]\n"
          ]
        }
      ]
    },
    {
      "cell_type": "markdown",
      "source": [
        "Answer 10\n",
        "- map() - Applies a function to each item in an iterable and returns an iterator of the results.\n",
        "- filter() - Filters the items in an iterable based on a condition defined by a function, and returns an iterator of the items that satisfy the condition.\n",
        "- reduce() - Cumulatively applies a function to the items in an iterable, reducing it to a single value. This is part of the functools module."
      ],
      "metadata": {
        "id": "9YMHMKySIhZ3"
      }
    },
    {
      "cell_type": "code",
      "source": [
        "# Example of map() function\n",
        "result = map(lambda x: x * 2, [1, 2, 3])\n",
        "print(list(result))"
      ],
      "metadata": {
        "colab": {
          "base_uri": "https://localhost:8080/"
        },
        "id": "O9UWAW6dJiGN",
        "outputId": "1372c9d1-442a-4cf7-97fb-351bb294ea22"
      },
      "execution_count": 54,
      "outputs": [
        {
          "output_type": "stream",
          "name": "stdout",
          "text": [
            "[2, 4, 6]\n"
          ]
        }
      ]
    },
    {
      "cell_type": "code",
      "source": [
        "# Example of filter() function\n",
        "result = filter(lambda x: x % 2 == 0, [1, 2, 3, 4])\n",
        "print(list(result))"
      ],
      "metadata": {
        "colab": {
          "base_uri": "https://localhost:8080/"
        },
        "id": "C7ywQq88Jm6k",
        "outputId": "2c583e15-09df-49be-c264-0599cf7af8fd"
      },
      "execution_count": 55,
      "outputs": [
        {
          "output_type": "stream",
          "name": "stdout",
          "text": [
            "[2, 4]\n"
          ]
        }
      ]
    },
    {
      "cell_type": "code",
      "source": [
        "# Example of reduce() function\n",
        "from functools import reduce\n",
        "\n",
        "result = reduce(lambda x, y: x + y, [1, 2, 3, 4])\n",
        "print(result)"
      ],
      "metadata": {
        "colab": {
          "base_uri": "https://localhost:8080/"
        },
        "id": "2ofQb2nZJrbu",
        "outputId": "fac41471-f4ab-4924-c6a6-582071163382"
      },
      "execution_count": 56,
      "outputs": [
        {
          "output_type": "stream",
          "name": "stdout",
          "text": [
            "10\n"
          ]
        }
      ]
    },
    {
      "cell_type": "markdown",
      "source": [
        "Answer 11\n",
        "- We will use the reduce() function from the functools module and apply it to the list [47, 11, 42, 13]. The goal is to accumulate the sum of the list elements using a function (in this case, an addition function) and reduce the list to a single value."
      ],
      "metadata": {
        "id": "29aAVD0IJx6P"
      }
    },
    {
      "cell_type": "code",
      "source": [
        "numbers = [47, 11, 42, 13]\n",
        "\n",
        "# Initializing with the first two elements (47, 11)\n",
        "lambda x, y: x + y\n",
        "# First iteration\n",
        "reduce(lambda x, y: x + y, [47, 11])\n",
        "\n",
        "# Second iteration\n",
        "# Now reduce the result (58) with the next element (42)\n",
        "reduce(lambda x, y: x + y, [58, 42])\n",
        "\n",
        "# Third iteration\n",
        "# Finally, reduce the result (100) with the last element (13)\n",
        "reduce(lambda x, y: x + y, [100, 13])"
      ],
      "metadata": {
        "colab": {
          "base_uri": "https://localhost:8080/"
        },
        "id": "RLje7FOjKkyZ",
        "outputId": "87fea0cc-b512-41cf-fc61-60410a7f054e"
      },
      "execution_count": 57,
      "outputs": [
        {
          "output_type": "execute_result",
          "data": {
            "text/plain": [
              "113"
            ]
          },
          "metadata": {},
          "execution_count": 57
        }
      ]
    },
    {
      "cell_type": "markdown",
      "source": [
        "**Practical Questions**"
      ],
      "metadata": {
        "id": "5I_uhAXO4clZ"
      }
    },
    {
      "cell_type": "markdown",
      "source": [
        "1. Write a Python function that takes a list of numbers as input and returns the sum of all even numbers in the list.\n",
        "2. Create a Python function that accepts a string and returns the reverse of that string.\n",
        "3. Implement a Python function that takes a list of integers and returns a new list containing the squares of each number.\n",
        "4. Write a Python function that checks if a given number is prime or not from 1 to 200.\n",
        "5. Create an iterator class in Python that generates the Fibonacci sequence up to a specified number of terms.\n",
        "6. Write a generator function in Python that yields the powers of 2 up to a given exponent.\n",
        "7. Implement a generator function that reads a file line by line and yields each line as a string.\n",
        "8. Use a lambda function in Python to sort a list of tuples based on the second element of each tuple.\n",
        "9. Write a Python program that uses `map()` to convert a list of temperatures from Celsius to Fahrenheit.\n",
        "10. Create a Python program that uses `filter()` to remove all the vowels from a given string.\n",
        "11. Imagine an accounting routine used in a book shop. It works on a list with sublists, which look like this:\n",
        "- Order Number, Book Title and Author, Quantity, Price per Item\n",
        "- 34587, Learning Python, Mark Lutz, 4, 40.95\n",
        "- 98762, Programming Python, Mark Lutz, 5, 56.80\n",
        "- 77226, Head First Python, Paul Barry, 3, 32.95\n",
        "- 88112, Einfuhrung in Python3, Bernd Klein, 3, 24.99\n",
        "- Write a Python program, which returns a list with 2-tuples. Each tuple consists of the order number and the product of the price per item and the quantity. The product should be increased by 10,- € if the value of the order is smaller than 100,00 €.\n",
        "Write a Python program using lambda and map."
      ],
      "metadata": {
        "id": "OlBD6X_M4UXd"
      }
    },
    {
      "cell_type": "code",
      "source": [
        "# Solution 1\n",
        "def sum_of_even_numbers(numbers):\n",
        "    return sum(num for num in numbers if num % 2 == 0)\n",
        "\n",
        "my_list = [1, 2, 3, 4, 5, 6]\n",
        "result = sum_of_even_numbers(my_list)\n",
        "print(result)"
      ],
      "metadata": {
        "colab": {
          "base_uri": "https://localhost:8080/"
        },
        "id": "UI9kVOxa-ehB",
        "outputId": "57f0c24d-4f3d-4af2-f0ce-9113686ac19b"
      },
      "execution_count": 62,
      "outputs": [
        {
          "output_type": "stream",
          "name": "stdout",
          "text": [
            "12\n"
          ]
        }
      ]
    },
    {
      "cell_type": "code",
      "source": [
        "# Solution 2\n",
        "def reverse_string(s):\n",
        "    return s[::-1]\n",
        "\n",
        "text = \"hello\"\n",
        "reversed_text = reverse_string(text)\n",
        "print(reversed_text)"
      ],
      "metadata": {
        "colab": {
          "base_uri": "https://localhost:8080/"
        },
        "id": "XIeSS6oM--EX",
        "outputId": "475b7287-de7e-4699-97aa-ad7dc3ad4972"
      },
      "execution_count": 63,
      "outputs": [
        {
          "output_type": "stream",
          "name": "stdout",
          "text": [
            "olleh\n"
          ]
        }
      ]
    },
    {
      "cell_type": "code",
      "source": [
        "# Solution 3\n",
        "def square_list(numbers):\n",
        "    return [x ** 2 for x in numbers]\n",
        "\n",
        "numbers = [1, 2, 3, 4, 5]\n",
        "print(f\"Squares: {square_list(numbers)}\")"
      ],
      "metadata": {
        "colab": {
          "base_uri": "https://localhost:8080/"
        },
        "id": "LJiDeeNp_Zvt",
        "outputId": "0514b424-71e6-44a8-e882-bd01e472fefc"
      },
      "execution_count": 64,
      "outputs": [
        {
          "output_type": "stream",
          "name": "stdout",
          "text": [
            "Squares: [1, 4, 9, 16, 25]\n"
          ]
        }
      ]
    },
    {
      "cell_type": "code",
      "source": [
        "# Solution 4\n",
        "def is_prime(n):\n",
        "    if n < 2:\n",
        "        return False\n",
        "    for i in range(2, int(n**0.5) + 1):\n",
        "        if n % i == 0:\n",
        "            return False\n",
        "    return True\n",
        "\n",
        "primes = [x for x in range(1, 201) if is_prime(x)]\n",
        "print(f\"Primes: {primes}\")"
      ],
      "metadata": {
        "colab": {
          "base_uri": "https://localhost:8080/"
        },
        "id": "gCPre4bs_w5V",
        "outputId": "7a5ad908-b471-4a3d-960b-8bce30b8a3c2"
      },
      "execution_count": 65,
      "outputs": [
        {
          "output_type": "stream",
          "name": "stdout",
          "text": [
            "Primes: [2, 3, 5, 7, 11, 13, 17, 19, 23, 29, 31, 37, 41, 43, 47, 53, 59, 61, 67, 71, 73, 79, 83, 89, 97, 101, 103, 107, 109, 113, 127, 131, 137, 139, 149, 151, 157, 163, 167, 173, 179, 181, 191, 193, 197, 199]\n"
          ]
        }
      ]
    },
    {
      "cell_type": "code",
      "source": [
        "# Solution 5\n",
        "class FibonacciIterator:\n",
        "    def __init__(self, max_terms):\n",
        "        self.max_terms = max_terms\n",
        "        self.count = 0\n",
        "        self.a, self.b = 0, 1\n",
        "\n",
        "    def __iter__(self):\n",
        "        return self\n",
        "\n",
        "    def __next__(self):\n",
        "        if self.count >= self.max_terms:\n",
        "            raise StopIteration\n",
        "        value = self.a\n",
        "        self.a, self.b = self.b, self.a + self.b\n",
        "        self.count += 1\n",
        "        return value\n",
        "\n",
        "fib = FibonacciIterator(10)\n",
        "print(f\"Fibonacci sequence: {list(fib)}\")"
      ],
      "metadata": {
        "colab": {
          "base_uri": "https://localhost:8080/"
        },
        "id": "abM2iD57AEFB",
        "outputId": "f7ea1a2f-987d-4b64-9873-caf2153feaf6"
      },
      "execution_count": 66,
      "outputs": [
        {
          "output_type": "stream",
          "name": "stdout",
          "text": [
            "Fibonacci sequence: [0, 1, 1, 2, 3, 5, 8, 13, 21, 34]\n"
          ]
        }
      ]
    },
    {
      "cell_type": "code",
      "source": [
        "# Solution 6\n",
        "def powers_of_two(max_exponent):\n",
        "    for i in range(max_exponent + 1):\n",
        "        yield 2 ** i\n",
        "\n",
        "print(f\"Powers of 2: {list(powers_of_two(5))}\")"
      ],
      "metadata": {
        "colab": {
          "base_uri": "https://localhost:8080/"
        },
        "id": "cZW3zbn5AVU2",
        "outputId": "42cdc9e2-a87a-4b97-b1d3-cfd8479b345c"
      },
      "execution_count": 67,
      "outputs": [
        {
          "output_type": "stream",
          "name": "stdout",
          "text": [
            "Powers of 2: [1, 2, 4, 8, 16, 32]\n"
          ]
        }
      ]
    },
    {
      "cell_type": "code",
      "source": [
        "# Solution 7\n",
        "def read_file_lines(filepath):\n",
        "    with open(filepath, 'r') as file:\n",
        "        for line in file:\n",
        "            yield line.strip()\n",
        "\n",
        "# for line in read_file_lines('example.txt'):\n",
        "#     print(line)\n"
      ],
      "metadata": {
        "id": "7dB98HCTAhlb"
      },
      "execution_count": 68,
      "outputs": []
    },
    {
      "cell_type": "code",
      "source": [
        "# Solution 8\n",
        "data = [(1, 3), (2, 1), (3, 2)]\n",
        "sorted_data = sorted(data, key=lambda x: x[1])\n",
        "print(f\"Sorted data: {sorted_data}\")"
      ],
      "metadata": {
        "colab": {
          "base_uri": "https://localhost:8080/"
        },
        "id": "J10pXd3eBFSC",
        "outputId": "e3cb8a6c-c74c-43ca-e1fc-6b8f27b166e7"
      },
      "execution_count": 70,
      "outputs": [
        {
          "output_type": "stream",
          "name": "stdout",
          "text": [
            "Sorted data: [(2, 1), (3, 2), (1, 3)]\n"
          ]
        }
      ]
    },
    {
      "cell_type": "code",
      "source": [
        "# Solution 9\n",
        "celsius = [0, 20, 30, 100]\n",
        "fahrenheit = list(map(lambda c: (c * 9/5) + 32, celsius))\n",
        "print(f\"Fahrenheit: {fahrenheit}\")"
      ],
      "metadata": {
        "colab": {
          "base_uri": "https://localhost:8080/"
        },
        "id": "1FVMBNWWBKBJ",
        "outputId": "99f006c0-4e6e-4b2d-eb39-ec5d0c22951a"
      },
      "execution_count": 72,
      "outputs": [
        {
          "output_type": "stream",
          "name": "stdout",
          "text": [
            "Fahrenheit: [32.0, 68.0, 86.0, 212.0]\n"
          ]
        }
      ]
    },
    {
      "cell_type": "code",
      "source": [
        "# Solution 10\n",
        "def remove_vowels(s):\n",
        "    return ''.join(filter(lambda c: c.lower() not in 'aeiou', s))\n",
        "\n",
        "print(f\"Without vowels: {remove_vowels('Hello World')}\")"
      ],
      "metadata": {
        "colab": {
          "base_uri": "https://localhost:8080/"
        },
        "id": "mprpSqfUBR4Y",
        "outputId": "29eb1e02-af8e-4991-9d38-62227e6bbf21"
      },
      "execution_count": 73,
      "outputs": [
        {
          "output_type": "stream",
          "name": "stdout",
          "text": [
            "Without vowels: Hll Wrld\n"
          ]
        }
      ]
    },
    {
      "cell_type": "code",
      "source": [
        "# Solution 11\n",
        "orders = [\n",
        "    [34587, \"Learning Python, Mark Lutz\", 4, 40.95],\n",
        "    [98762, \"Programming Python, Mark Lutz\", 5, 56.80],\n",
        "    [77226, \"Head First Python, Paul Barry\", 3, 32.95],\n",
        "    [88112, \"Einfuhrung in Python3, Bernd Klein\", 3, 24.99]\n",
        "]\n",
        "\n",
        "order_totals = list(map(\n",
        "    lambda order: (order[0], order[2] * order[3] + 10 if order[2] * order[3] < 100 else order[2] * order[3]),\n",
        "    orders\n",
        "))\n",
        "\n",
        "print(f\"Order Totals: {order_totals}\")"
      ],
      "metadata": {
        "colab": {
          "base_uri": "https://localhost:8080/"
        },
        "id": "KlMpDTzSBcLG",
        "outputId": "843f2812-f2d1-480c-cc38-d4719bb333eb"
      },
      "execution_count": 75,
      "outputs": [
        {
          "output_type": "stream",
          "name": "stdout",
          "text": [
            "Order Totals: [(34587, 163.8), (98762, 284.0), (77226, 108.85000000000001), (88112, 84.97)]\n"
          ]
        }
      ]
    }
  ]
}